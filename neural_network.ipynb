{
  "nbformat": 4,
  "nbformat_minor": 0,
  "metadata": {
    "colab": {
      "provenance": [],
      "authorship_tag": "ABX9TyMj1IeVas2aVvrN4GCB7m2I",
      "include_colab_link": true
    },
    "kernelspec": {
      "name": "python3",
      "display_name": "Python 3"
    },
    "language_info": {
      "name": "python"
    }
  },
  "cells": [
    {
      "cell_type": "markdown",
      "metadata": {
        "id": "view-in-github",
        "colab_type": "text"
      },
      "source": [
        "<a href=\"https://colab.research.google.com/github/Adelakun1999/data/blob/master/neural_network.ipynb\" target=\"_parent\"><img src=\"https://colab.research.google.com/assets/colab-badge.svg\" alt=\"Open In Colab\"/></a>"
      ]
    },
    {
      "cell_type": "code",
      "execution_count": 1,
      "metadata": {
        "id": "BiECo--dj9ou"
      },
      "outputs": [],
      "source": [
        "import numpy as np\n",
        "import matplotlib.pyplot as plt\n",
        "import tensorflow as tf\n",
        "from tensorflow import keras\n",
        "mnist=keras.datasets.mnist"
      ]
    },
    {
      "cell_type": "code",
      "source": [
        "pip install tensorflow==1.15"
      ],
      "metadata": {
        "colab": {
          "base_uri": "https://localhost:8080/",
          "height": 1000
        },
        "id": "oJ3A1w7FnKco",
        "outputId": "916aebda-e70a-4a60-b85a-ebb73d276259"
      },
      "execution_count": 19,
      "outputs": [
        {
          "output_type": "stream",
          "name": "stdout",
          "text": [
            "Looking in indexes: https://pypi.org/simple, https://us-python.pkg.dev/colab-wheels/public/simple/\n",
            "Collecting tensorflow==1.15\n",
            "  Downloading tensorflow-1.15.0-cp37-cp37m-manylinux2010_x86_64.whl (412.3 MB)\n",
            "\u001b[K     |████████████████████████████████| 412.3 MB 23 kB/s \n",
            "\u001b[?25hRequirement already satisfied: wrapt>=1.11.1 in /usr/local/lib/python3.7/dist-packages (from tensorflow==1.15) (1.14.1)\n",
            "Collecting tensorboard<1.16.0,>=1.15.0\n",
            "  Downloading tensorboard-1.15.0-py3-none-any.whl (3.8 MB)\n",
            "\u001b[K     |████████████████████████████████| 3.8 MB 42.5 MB/s \n",
            "\u001b[?25hRequirement already satisfied: opt-einsum>=2.3.2 in /usr/local/lib/python3.7/dist-packages (from tensorflow==1.15) (3.3.0)\n",
            "Requirement already satisfied: six>=1.10.0 in /usr/local/lib/python3.7/dist-packages (from tensorflow==1.15) (1.15.0)\n",
            "Requirement already satisfied: protobuf>=3.6.1 in /usr/local/lib/python3.7/dist-packages (from tensorflow==1.15) (3.17.3)\n",
            "Requirement already satisfied: keras-preprocessing>=1.0.5 in /usr/local/lib/python3.7/dist-packages (from tensorflow==1.15) (1.1.2)\n",
            "Collecting keras-applications>=1.0.8\n",
            "  Downloading Keras_Applications-1.0.8-py3-none-any.whl (50 kB)\n",
            "\u001b[K     |████████████████████████████████| 50 kB 7.7 MB/s \n",
            "\u001b[?25hCollecting gast==0.2.2\n",
            "  Downloading gast-0.2.2.tar.gz (10 kB)\n",
            "Requirement already satisfied: numpy<2.0,>=1.16.0 in /usr/local/lib/python3.7/dist-packages (from tensorflow==1.15) (1.21.6)\n",
            "Requirement already satisfied: grpcio>=1.8.6 in /usr/local/lib/python3.7/dist-packages (from tensorflow==1.15) (1.48.1)\n",
            "Requirement already satisfied: astor>=0.6.0 in /usr/local/lib/python3.7/dist-packages (from tensorflow==1.15) (0.8.1)\n",
            "Requirement already satisfied: termcolor>=1.1.0 in /usr/local/lib/python3.7/dist-packages (from tensorflow==1.15) (1.1.0)\n",
            "Requirement already satisfied: wheel>=0.26 in /usr/local/lib/python3.7/dist-packages (from tensorflow==1.15) (0.37.1)\n",
            "Requirement already satisfied: google-pasta>=0.1.6 in /usr/local/lib/python3.7/dist-packages (from tensorflow==1.15) (0.2.0)\n",
            "Requirement already satisfied: absl-py>=0.7.0 in /usr/local/lib/python3.7/dist-packages (from tensorflow==1.15) (1.2.0)\n",
            "Collecting tensorflow-estimator==1.15.1\n",
            "  Downloading tensorflow_estimator-1.15.1-py2.py3-none-any.whl (503 kB)\n",
            "\u001b[K     |████████████████████████████████| 503 kB 49.6 MB/s \n",
            "\u001b[?25hRequirement already satisfied: h5py in /usr/local/lib/python3.7/dist-packages (from keras-applications>=1.0.8->tensorflow==1.15) (3.1.0)\n",
            "Requirement already satisfied: markdown>=2.6.8 in /usr/local/lib/python3.7/dist-packages (from tensorboard<1.16.0,>=1.15.0->tensorflow==1.15) (3.4.1)\n",
            "Requirement already satisfied: werkzeug>=0.11.15 in /usr/local/lib/python3.7/dist-packages (from tensorboard<1.16.0,>=1.15.0->tensorflow==1.15) (1.0.1)\n",
            "Requirement already satisfied: setuptools>=41.0.0 in /usr/local/lib/python3.7/dist-packages (from tensorboard<1.16.0,>=1.15.0->tensorflow==1.15) (57.4.0)\n",
            "Requirement already satisfied: importlib-metadata>=4.4 in /usr/local/lib/python3.7/dist-packages (from markdown>=2.6.8->tensorboard<1.16.0,>=1.15.0->tensorflow==1.15) (4.12.0)\n",
            "Requirement already satisfied: typing-extensions>=3.6.4 in /usr/local/lib/python3.7/dist-packages (from importlib-metadata>=4.4->markdown>=2.6.8->tensorboard<1.16.0,>=1.15.0->tensorflow==1.15) (4.1.1)\n",
            "Requirement already satisfied: zipp>=0.5 in /usr/local/lib/python3.7/dist-packages (from importlib-metadata>=4.4->markdown>=2.6.8->tensorboard<1.16.0,>=1.15.0->tensorflow==1.15) (3.8.1)\n",
            "Requirement already satisfied: cached-property in /usr/local/lib/python3.7/dist-packages (from h5py->keras-applications>=1.0.8->tensorflow==1.15) (1.5.2)\n",
            "Building wheels for collected packages: gast\n",
            "  Building wheel for gast (setup.py) ... \u001b[?25l\u001b[?25hdone\n",
            "  Created wheel for gast: filename=gast-0.2.2-py3-none-any.whl size=7554 sha256=f2e96b11da2170d048da0a6207d3403c11256e6898ecf740369cfa9795490acb\n",
            "  Stored in directory: /root/.cache/pip/wheels/21/7f/02/420f32a803f7d0967b48dd823da3f558c5166991bfd204eef3\n",
            "Successfully built gast\n",
            "Installing collected packages: tensorflow-estimator, tensorboard, keras-applications, gast, tensorflow\n",
            "  Attempting uninstall: tensorflow-estimator\n",
            "    Found existing installation: tensorflow-estimator 2.8.0\n",
            "    Uninstalling tensorflow-estimator-2.8.0:\n",
            "      Successfully uninstalled tensorflow-estimator-2.8.0\n",
            "  Attempting uninstall: tensorboard\n",
            "    Found existing installation: tensorboard 2.8.0\n",
            "    Uninstalling tensorboard-2.8.0:\n",
            "      Successfully uninstalled tensorboard-2.8.0\n",
            "  Attempting uninstall: gast\n",
            "    Found existing installation: gast 0.5.3\n",
            "    Uninstalling gast-0.5.3:\n",
            "      Successfully uninstalled gast-0.5.3\n",
            "  Attempting uninstall: tensorflow\n",
            "    Found existing installation: tensorflow 2.8.2+zzzcolab20220719082949\n",
            "    Uninstalling tensorflow-2.8.2+zzzcolab20220719082949:\n",
            "      Successfully uninstalled tensorflow-2.8.2+zzzcolab20220719082949\n",
            "\u001b[31mERROR: pip's dependency resolver does not currently take into account all the packages that are installed. This behaviour is the source of the following dependency conflicts.\n",
            "tensorflow-probability 0.16.0 requires gast>=0.3.2, but you have gast 0.2.2 which is incompatible.\n",
            "kapre 0.3.7 requires tensorflow>=2.0.0, but you have tensorflow 1.15.0 which is incompatible.\u001b[0m\n",
            "Successfully installed gast-0.2.2 keras-applications-1.0.8 tensorboard-1.15.0 tensorflow-1.15.0 tensorflow-estimator-1.15.1\n"
          ]
        },
        {
          "output_type": "display_data",
          "data": {
            "application/vnd.colab-display-data+json": {
              "pip_warning": {
                "packages": [
                  "gast",
                  "tensorboard",
                  "tensorflow"
                ]
              }
            }
          },
          "metadata": {}
        }
      ]
    },
    {
      "cell_type": "code",
      "source": [],
      "metadata": {
        "id": "by0wSLhanVqi"
      },
      "execution_count": null,
      "outputs": []
    },
    {
      "cell_type": "code",
      "execution_count": 2,
      "metadata": {
        "id": "atlHs12MoB99"
      },
      "outputs": [],
      "source": [
        "import numpy as np\n",
        "import matplotlib.pyplot as plt\n",
        "import tensorflow as tf\n",
        "from tensorflow import keras\n",
        "mnist=keras.datasets.mnist\n",
        "(train_images, train_labels),(test_images,test_labels)=mnist.load_data()"
      ]
    },
    {
      "cell_type": "code",
      "source": [
        "print(\"Training data: {}, {}\".format(train_images.shape, train_labels.shape))\n",
        "# prints Training data: (60000, 28, 28), (60000,)\n",
        "print(\"Test data: {}, {}\".format(test_images.shape, test_labels.shape))\n",
        "# prints Test data: (10000, 28, 28), (10000,)\n",
        "class_labels = np.unique(train_labels)\n",
        "print(\"There are {} classes in the dataset. They are: {}\".format(len(class_labels), class_labels))\n",
        "# prints There are 10 classes in the dataset. They are: [0 1 2 3 4 5 6 7 8 9]"
      ],
      "metadata": {
        "colab": {
          "base_uri": "https://localhost:8080/"
        },
        "id": "VljpIfdQouKQ",
        "outputId": "49f26f3d-6bea-4e15-9706-25a9abb888ce"
      },
      "execution_count": 3,
      "outputs": [
        {
          "output_type": "stream",
          "name": "stdout",
          "text": [
            "Training data: (60000, 28, 28), (60000,)\n",
            "Test data: (10000, 28, 28), (10000,)\n",
            "There are 10 classes in the dataset. They are: [0 1 2 3 4 5 6 7 8 9]\n"
          ]
        }
      ]
    },
    {
      "cell_type": "code",
      "source": [
        "plt.figure(figsize=(8, 5))\n",
        "plt.subplot(1,3,1)\n",
        "plt.imshow(train_images[0])\n",
        "plt.title(\"Label: {}\".format(train_labels[0]))\n",
        "plt.subplot(1,3,2)\n",
        "plt.imshow(train_images[2500])\n",
        "plt.title(\"Label: {}\".format(train_labels[2500]))\n",
        "plt.subplot(1,3,3)\n",
        "plt.imshow(test_images[12])\n",
        "plt.show()"
      ],
      "metadata": {
        "colab": {
          "base_uri": "https://localhost:8080/",
          "height": 195
        },
        "id": "AIePNrOxpCfL",
        "outputId": "1d11c758-24c7-4539-b989-f962a12f14b3"
      },
      "execution_count": 4,
      "outputs": [
        {
          "output_type": "display_data",
          "data": {
            "text/plain": [
              "<Figure size 576x360 with 3 Axes>"
            ],
            "image/png": "[encoded data removed]"
          },
          "metadata": {
            "needs_background": "light"
          }
        }
      ]
    },
    {
      "cell_type": "code",
      "source": [
        "np.unique(train_labels)"
      ],
      "metadata": {
        "id": "Jhxj8Cc2p8FW",
        "colab": {
          "base_uri": "https://localhost:8080/"
        },
        "outputId": "26a4c57f-fefb-4142-861b-3387df5040b1"
      },
      "execution_count": 7,
      "outputs": [
        {
          "output_type": "execute_result",
          "data": {
            "text/plain": [
              "array([0, 1, 2, 3, 4, 5, 6, 7, 8, 9], dtype=uint8)"
            ]
          },
          "metadata": {},
          "execution_count": 7
        }
      ]
    },
    {
      "cell_type": "code",
      "source": [
        "train_images = train_images / 255.0\n",
        "test_images = test_images / 255.0"
      ],
      "metadata": {
        "id": "vgcgMZYJ88zA"
      },
      "execution_count": 5,
      "outputs": []
    },
    {
      "cell_type": "code",
      "source": [
        "x_train = train_images[0:50000]\n",
        "x_val = train_images[50000:]\n",
        "y_train = train_labels[0:50000]\n",
        "y_val = train_labels[50000:]\n",
        "print(\"x_train: {}\".format(x_train.shape)) # prints x_train: (50000, 28, 28)\n",
        "print(\"x_val: {}\".format(x_val.shape)) # prints x_val: (10000, 28, 28)\n",
        "print(\"y_train: {}\".format(y_train.shape)) #prints y_train: (50000,)\n",
        "print(\"y_val: {}\".format(y_val.shape)) #prints y_val: (10000,)"
      ],
      "metadata": {
        "colab": {
          "base_uri": "https://localhost:8080/"
        },
        "id": "dzFQ4uno99z2",
        "outputId": "9642bc9c-53d4-46b2-c713-d5c0cc906423"
      },
      "execution_count": 6,
      "outputs": [
        {
          "output_type": "stream",
          "name": "stdout",
          "text": [
            "x_train: (50000, 28, 28)\n",
            "x_val: (10000, 28, 28)\n",
            "y_train: (50000,)\n",
            "y_val: (10000,)\n"
          ]
        }
      ]
    },
    {
      "cell_type": "code",
      "source": [
        "new_dimension = np.prod(train_images.shape[1:])\n",
        "x_train = x_train.reshape(x_train.shape[0], new_dimension)\n",
        "x_val = x_val.reshape(x_val.shape[0], new_dimension)\n",
        "test_images = test_images.reshape(test_images.shape[0], new_dimension)\n",
        "\n",
        "\n",
        "print(\"x_train: {}\".format(x_train.shape)) #prints x_train: (50000, 784)\n",
        "print(\"x_val: {}\".format(x_val.shape)) #prints x_val: (10000, 784)\n",
        "print(\"test_images: {}\".format(test_images.shape)) #prints test_images: (10000, 784)"
      ],
      "metadata": {
        "colab": {
          "base_uri": "https://localhost:8080/"
        },
        "id": "Nkrx6OYg-tEX",
        "outputId": "0eed919e-ac61-43a4-debd-c81bd54b13cf"
      },
      "execution_count": 7,
      "outputs": [
        {
          "output_type": "stream",
          "name": "stdout",
          "text": [
            "x_train: (50000, 784)\n",
            "x_val: (10000, 784)\n",
            "test_images: (10000, 784)\n"
          ]
        }
      ]
    },
    {
      "cell_type": "code",
      "source": [
        "train_images.shape[1:]"
      ],
      "metadata": {
        "colab": {
          "base_uri": "https://localhost:8080/"
        },
        "id": "PX5IWD7z_QN-",
        "outputId": "b96f6f02-7dc2-49de-9500-65283a6beea8"
      },
      "execution_count": 8,
      "outputs": [
        {
          "output_type": "execute_result",
          "data": {
            "text/plain": [
              "(28, 28)"
            ]
          },
          "metadata": {},
          "execution_count": 8
        }
      ]
    },
    {
      "cell_type": "code",
      "source": [
        "#Encode labels to categorical variables\n",
        "from tensorflow.keras.utils import to_categorical\n",
        "no_labels = 10\n",
        "y_train = to_categorical(y_train, no_labels)\n",
        "y_val = to_categorical(y_val, no_labels)\n",
        "y_test = to_categorical(test_labels, no_labels)"
      ],
      "metadata": {
        "id": "TyiM_z88_lkK"
      },
      "execution_count": 9,
      "outputs": []
    },
    {
      "cell_type": "markdown",
      "source": [
        "**Activation functions and Neural Networks hyperparameters**"
      ],
      "metadata": {
        "id": "GBzXeTUhBbTI"
      }
    },
    {
      "cell_type": "code",
      "source": [
        "X = tf.placeholder(tf.float32, [None, new_dimension])\n",
        "Y = tf.placeholder(tf.float32, [None, no_labels])"
      ],
      "metadata": {
        "id": "65LYF09LACZf"
      },
      "execution_count": 10,
      "outputs": []
    },
    {
      "cell_type": "code",
      "source": [
        "# create model architecture\n",
        "def multilayer_perceptron(x, no_classes, first_layer_neurons=256, second_layer_neurons=128):\n",
        " # first layer\n",
        " first_weight = tf.Variable(tf.random_uniform([new_dimension, first_layer_neurons]))\n",
        " first_bias = tf.Variable(tf.zeros([first_layer_neurons]))\n",
        " first_layer_output = tf.nn.relu(tf.add(tf.matmul(x, first_weight), first_bias))\n",
        " # second layer\n",
        " second_weight = tf.Variable(tf.random_uniform([first_layer_neurons,second_layer_neurons]))\n",
        " second_bias = tf.Variable(tf.zeros([second_layer_neurons]))\n",
        " second_layer_output = tf.nn.relu(tf.add(tf.matmul(first_layer_output, second_weight),\n",
        " second_bias))\n",
        " # output layer\n",
        " final_weight = tf.Variable(tf.random_uniform([second_layer_neurons, no_classes]))\n",
        " final_bias = tf.Variable(tf.zeros([no_classes]))\n",
        " logits = tf.add(tf.matmul(second_layer_output, final_weight), final_bias)\n",
        "\n",
        " return logits"
      ],
      "metadata": {
        "id": "2QpKGWqRBqiL"
      },
      "execution_count": 11,
      "outputs": []
    },
    {
      "cell_type": "code",
      "source": [
        "logits = multilayer_perceptron(X, no_labels)\n",
        "learning_rate = 0.01\n",
        "#we define the loss and optimiser for the network\n",
        "loss_op = tf.reduce_mean(tf.nn.softmax_cross_entropy_with_logits(logits=logits, labels=Y))\n",
        "optimiser = tf.train.AdamOptimizer(learning_rate=learning_rate)\n",
        "train_op = optimiser.minimize(loss_op)"
      ],
      "metadata": {
        "colab": {
          "base_uri": "https://localhost:8080/"
        },
        "id": "ZTwdgpWgDLXV",
        "outputId": "222024a3-098e-46aa-9732-35190b8530e7"
      },
      "execution_count": 12,
      "outputs": [
        {
          "output_type": "stream",
          "name": "stderr",
          "text": [
            "WARNING:tensorflow:From <ipython-input-12-d34b61eebc17>:4: softmax_cross_entropy_with_logits (from tensorflow.python.ops.nn_ops) is deprecated and will be removed in a future version.\n",
            "Instructions for updating:\n",
            "\n",
            "Future major versions of TensorFlow will allow gradients to flow\n",
            "into the labels input on backprop by default.\n",
            "\n",
            "See `tf.nn.softmax_cross_entropy_with_logits_v2`.\n",
            "\n"
          ]
        }
      ]
    },
    {
      "cell_type": "code",
      "source": [
        "logits = multilayer_perceptron(X, no_labels)\n",
        "learning_rate = 0.01\n",
        "#we define the loss and optimiser for the network\n",
        "loss_op = tf.reduce_mean(tf.nn.softmax_cross_entropy_with_logits(logits=logits, labels=Y))\n",
        "optimiser = tf.train.AdamOptimizer(learning_rate=learning_rate)\n",
        "train_op = optimiser.minimize(loss_op)\n",
        "\n",
        "#initialise the variables\n",
        "init = tf.global_variables_initializer()\n",
        "epochs = 20\n",
        "batch_size = 1000\n",
        "iteration = len(x_train) // batch_size\n",
        "#train model\n",
        "with tf.Session() as session:\n",
        " session.run(init)\n",
        " for epoch in range(epochs):\n",
        "   average_cost = 0\n",
        "   start, end = 0, batch_size\n",
        "   for i in range(iteration):\n",
        "     batch_x, batch_y = x_train[start: end], y_train[start: end]\n",
        "     _, loss = session.run([train_op, loss_op], feed_dict={X: batch_x, Y: batch_y})\n",
        "     start += batch_size\n",
        "     end += batch_size\n",
        "     #average loss\n",
        "     average_cost += loss/iteration\n",
        " print(\"Epoch========{}\".format(epoch))\n",
        "\n",
        "#evaluate model\n",
        " prediction = tf.nn.softmax(logits)\n",
        " ground_truth = tf.equal(tf.argmax(prediction, 1), tf.argmax(Y, 1))\n",
        " accuracy = tf.reduce_mean(tf.cast(ground_truth, \"float\"))\n",
        " print(\"Accuracy: {}\".format(accuracy.eval({X: test_images, Y: y_test})))\n",
        " "
      ],
      "metadata": {
        "colab": {
          "base_uri": "https://localhost:8080/"
        },
        "id": "YWa-N99rD4Pd",
        "outputId": "b55d21a1-484d-44fb-a9da-7c5e2d848358"
      },
      "execution_count": 28,
      "outputs": [
        {
          "output_type": "stream",
          "name": "stdout",
          "text": [
            "Epoch========19\n",
            "Accuracy: 0.883400022983551\n"
          ]
        }
      ]
    },
    {
      "cell_type": "code",
      "source": [
        "#Building a Sequential Feed Forward Network in Keras\n",
        "from tensorflow.keras.layers import Dense\n",
        "from tensorflow.keras.models import Sequential\n",
        "model = Sequential()\n",
        "model.add(Dense(256, activation='relu', input_shape=(new_dimension,)))\n",
        "model.add(Dense(128, activation='relu'))\n",
        "model.add(Dense(no_labels, activation='softmax'))\n",
        "model.compile(optimizer='adam', loss=tf.keras.losses.categorical_crossentropy,\n",
        " metrics=['accuracy'])\n",
        "history = model.fit(x_train, y_train, validation_data=(x_val, y_val), epochs=20, batch_size=1000)\n",
        "test_loss, test_accuracy = model.evaluate(test_images, y_test)\n",
        "print('Test loss: {}'.format(test_loss))\n",
        "print('Test accuracy: {}'.format(test_accuracy))"
      ],
      "metadata": {
        "colab": {
          "base_uri": "https://localhost:8080/"
        },
        "id": "h_ZVMPlEHpik",
        "outputId": "240ee638-a10d-4dbd-b098-6372e8b792b6"
      },
      "execution_count": 30,
      "outputs": [
        {
          "output_type": "stream",
          "name": "stderr",
          "text": [
            "WARNING:tensorflow:From /usr/local/lib/python3.7/dist-packages/tensorflow_core/python/ops/resource_variable_ops.py:1630: calling BaseResourceVariable.__init__ (from tensorflow.python.ops.resource_variable_ops) with constraint is deprecated and will be removed in a future version.\n",
            "Instructions for updating:\n",
            "If using Keras pass *_constraint arguments to layers.\n"
          ]
        },
        {
          "output_type": "stream",
          "name": "stdout",
          "text": [
            "Train on 50000 samples, validate on 10000 samples\n",
            "Epoch 1/20\n",
            "50000/50000 [==============================] - 2s 36us/sample - loss: 0.6650 - acc: 0.8267 - val_loss: 0.2524 - val_acc: 0.9278\n",
            "Epoch 2/20\n",
            "50000/50000 [==============================] - 2s 31us/sample - loss: 0.2275 - acc: 0.9331 - val_loss: 0.1740 - val_acc: 0.9531\n",
            "Epoch 3/20\n",
            "50000/50000 [==============================] - 2s 32us/sample - loss: 0.1630 - acc: 0.9528 - val_loss: 0.1413 - val_acc: 0.9601\n",
            "Epoch 4/20\n",
            "50000/50000 [==============================] - 2s 31us/sample - loss: 0.1269 - acc: 0.9632 - val_loss: 0.1280 - val_acc: 0.9659\n",
            "Epoch 5/20\n",
            "50000/50000 [==============================] - 2s 31us/sample - loss: 0.1028 - acc: 0.9704 - val_loss: 0.1101 - val_acc: 0.9685\n",
            "Epoch 6/20\n",
            "50000/50000 [==============================] - 2s 31us/sample - loss: 0.0835 - acc: 0.9765 - val_loss: 0.0974 - val_acc: 0.9728\n",
            "Epoch 7/20\n",
            "50000/50000 [==============================] - 2s 31us/sample - loss: 0.0694 - acc: 0.9801 - val_loss: 0.0912 - val_acc: 0.9737\n",
            "Epoch 8/20\n",
            "50000/50000 [==============================] - 2s 32us/sample - loss: 0.0584 - acc: 0.9835 - val_loss: 0.0928 - val_acc: 0.9732\n",
            "Epoch 9/20\n",
            "50000/50000 [==============================] - 2s 32us/sample - loss: 0.0495 - acc: 0.9866 - val_loss: 0.0858 - val_acc: 0.9760\n",
            "Epoch 10/20\n",
            "50000/50000 [==============================] - 2s 33us/sample - loss: 0.0428 - acc: 0.9882 - val_loss: 0.0815 - val_acc: 0.9764\n",
            "Epoch 11/20\n",
            "50000/50000 [==============================] - 2s 31us/sample - loss: 0.0358 - acc: 0.9909 - val_loss: 0.0780 - val_acc: 0.9775\n",
            "Epoch 12/20\n",
            "50000/50000 [==============================] - 2s 31us/sample - loss: 0.0309 - acc: 0.9922 - val_loss: 0.0805 - val_acc: 0.9768\n",
            "Epoch 13/20\n",
            "50000/50000 [==============================] - 2s 31us/sample - loss: 0.0259 - acc: 0.9938 - val_loss: 0.0754 - val_acc: 0.9792\n",
            "Epoch 14/20\n",
            "50000/50000 [==============================] - 2s 31us/sample - loss: 0.0229 - acc: 0.9949 - val_loss: 0.0813 - val_acc: 0.9757\n",
            "Epoch 15/20\n",
            "50000/50000 [==============================] - 2s 31us/sample - loss: 0.0197 - acc: 0.9955 - val_loss: 0.0744 - val_acc: 0.9792\n",
            "Epoch 16/20\n",
            "50000/50000 [==============================] - 2s 32us/sample - loss: 0.0167 - acc: 0.9968 - val_loss: 0.0780 - val_acc: 0.9786\n",
            "Epoch 17/20\n",
            "50000/50000 [==============================] - 2s 32us/sample - loss: 0.0142 - acc: 0.9973 - val_loss: 0.0770 - val_acc: 0.9790\n",
            "Epoch 18/20\n",
            "50000/50000 [==============================] - 2s 31us/sample - loss: 0.0124 - acc: 0.9977 - val_loss: 0.0794 - val_acc: 0.9792\n",
            "Epoch 19/20\n",
            "50000/50000 [==============================] - 2s 31us/sample - loss: 0.0097 - acc: 0.9987 - val_loss: 0.0793 - val_acc: 0.9788\n",
            "Epoch 20/20\n",
            "50000/50000 [==============================] - 2s 31us/sample - loss: 0.0082 - acc: 0.9992 - val_loss: 0.0790 - val_acc: 0.9794\n",
            "10000/10000 [==============================] - 1s 55us/sample - loss: 0.0690 - acc: 0.9800\n",
            "Test loss: 0.0689780717150832\n",
            "Test accuracy: 0.9800000190734863\n"
          ]
        }
      ]
    },
    {
      "cell_type": "code",
      "source": [
        "plt.figure()\n",
        "plt.plot(history.history['loss'], 'blue')\n",
        "plt.plot(history.history['val_loss'], 'red')\n",
        "plt.legend(['Training loss', 'Validation Loss'])\n",
        "plt.xlabel('Epochs')\n",
        "plt.ylabel('Loss')\n",
        "plt.title('Loss Curves - before regularisation');"
      ],
      "metadata": {
        "colab": {
          "base_uri": "https://localhost:8080/",
          "height": 295
        },
        "id": "drYf6gW7JBQW",
        "outputId": "3fe30702-f125-4e7b-c712-84b3cfaff382"
      },
      "execution_count": 32,
      "outputs": [
        {
          "output_type": "display_data",
          "data": {
            "text/plain": [
              "<Figure size 432x288 with 1 Axes>"
            ],
            "image/png": "[encoded data removed]"
          },
          "metadata": {
            "needs_background": "light"
          }
        }
      ]
    },
    {
      "cell_type": "code",
      "source": [
        "from tensorflow.keras.layers import Dropout\n",
        "reg_model = Sequential()\n",
        "reg_model.add(Dense(256, activation='relu', input_shape=(new_dimension,)))\n",
        "reg_model.add(Dropout(0.4))\n",
        "reg_model.add(Dense(128, activation='relu'))\n",
        "reg_model.add(Dropout(0.4))\n",
        "reg_model.add(Dense(no_labels, activation='softmax'))\n",
        "reg_model.compile(optimizer='adam', loss=tf.keras.losses.categorical_crossentropy,metrics=['accuracy'])\n",
        "\n",
        "reg_history = reg_model.fit(x_train, y_train, validation_data=(x_val, y_val),\n",
        " epochs=20, batch_size=1000)\n",
        "test_loss, test_accuracy = reg_model.evaluate(test_images, y_test)\n",
        "print('Test loss: {}'.format(test_loss))\n",
        "print('Test accuracy: {}'.format(test_accuracy))\n",
        "test_loss, test_accuracy = reg_model.evaluate(test_images, y_test)\n",
        "print('Test loss: {}'.format(test_loss))\n",
        "print('Test accuracy: {}'.format(test_accuracy))\n",
        "plt.figure()\n",
        "plt.plot(reg_history.history['loss'], 'blue')\n",
        "plt.plot(reg_history.history['val_loss'], 'red')\n",
        "plt.legend(['Training loss', 'Validation Loss'])\n",
        "plt.xlabel('Epochs')\n",
        "plt.ylabel('Loss')\n",
        "plt.title('Loss Curves - after regularisation')\n"
      ],
      "metadata": {
        "colab": {
          "base_uri": "https://localhost:8080/",
          "height": 1000
        },
        "id": "ETOymufeJyvj",
        "outputId": "02ffa3a6-cc85-4910-fb22-c5a9523f12f9"
      },
      "execution_count": 33,
      "outputs": [
        {
          "output_type": "stream",
          "name": "stdout",
          "text": [
            "Train on 50000 samples, validate on 10000 samples\n",
            "Epoch 1/20\n",
            "50000/50000 [==============================] - 2s 46us/sample - loss: 0.9813 - acc: 0.6916 - val_loss: 0.2993 - val_acc: 0.9135\n",
            "Epoch 2/20\n",
            "50000/50000 [==============================] - 2s 44us/sample - loss: 0.3813 - acc: 0.8876 - val_loss: 0.2073 - val_acc: 0.9412\n",
            "Epoch 3/20\n",
            "50000/50000 [==============================] - 2s 37us/sample - loss: 0.2873 - acc: 0.9156 - val_loss: 0.1671 - val_acc: 0.9531\n",
            "Epoch 4/20\n",
            "50000/50000 [==============================] - 2s 37us/sample - loss: 0.2355 - acc: 0.9308 - val_loss: 0.1449 - val_acc: 0.9576\n",
            "Epoch 5/20\n",
            "50000/50000 [==============================] - 2s 37us/sample - loss: 0.2021 - acc: 0.9407 - val_loss: 0.1236 - val_acc: 0.9640\n",
            "Epoch 6/20\n",
            "50000/50000 [==============================] - 2s 37us/sample - loss: 0.1775 - acc: 0.9485 - val_loss: 0.1139 - val_acc: 0.9664\n",
            "Epoch 7/20\n",
            "50000/50000 [==============================] - 2s 37us/sample - loss: 0.1571 - acc: 0.9528 - val_loss: 0.1048 - val_acc: 0.9697\n",
            "Epoch 8/20\n",
            "50000/50000 [==============================] - 2s 37us/sample - loss: 0.1434 - acc: 0.9581 - val_loss: 0.0968 - val_acc: 0.9711\n",
            "Epoch 9/20\n",
            "50000/50000 [==============================] - 2s 37us/sample - loss: 0.1277 - acc: 0.9621 - val_loss: 0.0910 - val_acc: 0.9733\n",
            "Epoch 10/20\n",
            "50000/50000 [==============================] - 2s 37us/sample - loss: 0.1184 - acc: 0.9647 - val_loss: 0.0877 - val_acc: 0.9745\n",
            "Epoch 11/20\n",
            "50000/50000 [==============================] - 2s 37us/sample - loss: 0.1104 - acc: 0.9670 - val_loss: 0.0855 - val_acc: 0.9751\n",
            "Epoch 12/20\n",
            "50000/50000 [==============================] - 2s 37us/sample - loss: 0.1052 - acc: 0.9685 - val_loss: 0.0837 - val_acc: 0.9745\n",
            "Epoch 13/20\n",
            "50000/50000 [==============================] - 2s 37us/sample - loss: 0.0978 - acc: 0.9706 - val_loss: 0.0812 - val_acc: 0.9757\n",
            "Epoch 14/20\n",
            "50000/50000 [==============================] - 2s 37us/sample - loss: 0.0914 - acc: 0.9726 - val_loss: 0.0785 - val_acc: 0.9768\n",
            "Epoch 15/20\n",
            "50000/50000 [==============================] - 2s 37us/sample - loss: 0.0867 - acc: 0.9739 - val_loss: 0.0767 - val_acc: 0.9783\n",
            "Epoch 16/20\n",
            "50000/50000 [==============================] - 2s 37us/sample - loss: 0.0824 - acc: 0.9746 - val_loss: 0.0761 - val_acc: 0.9778\n",
            "Epoch 17/20\n",
            "50000/50000 [==============================] - 2s 37us/sample - loss: 0.0776 - acc: 0.9757 - val_loss: 0.0765 - val_acc: 0.9781\n",
            "Epoch 18/20\n",
            "50000/50000 [==============================] - 2s 37us/sample - loss: 0.0737 - acc: 0.9767 - val_loss: 0.0736 - val_acc: 0.9792\n",
            "Epoch 19/20\n",
            "50000/50000 [==============================] - 2s 37us/sample - loss: 0.0688 - acc: 0.9784 - val_loss: 0.0740 - val_acc: 0.9782\n",
            "Epoch 20/20\n",
            "50000/50000 [==============================] - 2s 37us/sample - loss: 0.0676 - acc: 0.9791 - val_loss: 0.0734 - val_acc: 0.9789\n",
            "10000/10000 [==============================] - 1s 60us/sample - loss: 0.0692 - acc: 0.9800\n",
            "Test loss: 0.06924420838013758\n",
            "Test accuracy: 0.9800000190734863\n",
            "10000/10000 [==============================] - 1s 63us/sample - loss: 0.0692 - acc: 0.9800\n",
            "Test loss: 0.06924420838013758\n",
            "Test accuracy: 0.9800000190734863\n"
          ]
        },
        {
          "output_type": "execute_result",
          "data": {
            "text/plain": [
              "Text(0.5, 1.0, 'Loss Curves - after regularisation')"
            ]
          },
          "metadata": {},
          "execution_count": 33
        },
        {
          "output_type": "display_data",
          "data": {
            "text/plain": [
              "<Figure size 432x288 with 1 Axes>"
            ],
            "image/png": "[encoded data removed]"
          },
          "metadata": {
            "needs_background": "light"
          }
        }
      ]
    },
    {
      "cell_type": "code",
      "source": [],
      "metadata": {
        "id": "8s3K11LzKgAI"
      },
      "execution_count": null,
      "outputs": []
    }
  ]
}